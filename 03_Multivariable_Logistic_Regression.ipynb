{
  "nbformat": 4,
  "nbformat_minor": 0,
  "metadata": {
    "colab": {
      "provenance": []
    },
    "kernelspec": {
      "name": "python3",
      "display_name": "Python 3"
    },
    "language_info": {
      "name": "python"
    }
  },
  "cells": [
    {
      "cell_type": "markdown",
      "source": [
        "# **3. Multivariable Logistic Regression**"
      ],
      "metadata": {
        "id": "vA7KlKt7DRmo"
      }
    },
    {
      "cell_type": "code",
      "execution_count": 1,
      "metadata": {
        "id": "TPMB3beIDJ9_"
      },
      "outputs": [],
      "source": [
        "#import relevant libraries\n",
        "import pandas as pd\n",
        "import numpy as np\n",
        "import matplotlib.pyplot as plt\n",
        "import seaborn as sns\n",
        "import statsmodels.formula.api as smf\n",
        "df = pd.read_csv('/content/drive/MyDrive/Colab Notebooks/Diabetes Model/diabetesalcohol.csv')"
      ]
    },
    {
      "cell_type": "code",
      "source": [
        "# Model 1: Crude\n",
        "print(\"Model 1: Crude\")\n",
        "# Convert boolean type2_diabetes to numeric (0 for False, 1 for True)\n",
        "df['type2_diabetes'] = df['type2_diabetes'].astype(int)\n",
        "m1 = smf.logit('type2_diabetes ~ C(alcohol_consumption_category)', data=df).fit()\n",
        "print(m1.summary())"
      ],
      "metadata": {
        "colab": {
          "base_uri": "https://localhost:8080/"
        },
        "id": "Kg4CJvxADp0c",
        "outputId": "9675f6f0-754d-431c-e365-e2da526de282"
      },
      "execution_count": 4,
      "outputs": [
        {
          "output_type": "stream",
          "name": "stdout",
          "text": [
            "Model 1: Crude\n",
            "Optimization terminated successfully.\n",
            "         Current function value: 0.323777\n",
            "         Iterations 6\n",
            "                           Logit Regression Results                           \n",
            "==============================================================================\n",
            "Dep. Variable:         type2_diabetes   No. Observations:                15000\n",
            "Model:                          Logit   Df Residuals:                    14996\n",
            "Method:                           MLE   Df Model:                            3\n",
            "Date:                Mon, 04 Aug 2025   Pseudo R-squ.:               0.0004076\n",
            "Time:                        21:54:26   Log-Likelihood:                -4856.7\n",
            "converged:                       True   LL-Null:                       -4858.6\n",
            "Covariance Type:            nonrobust   LLR p-value:                    0.2657\n",
            "===============================================================================================================\n",
            "                                                  coef    std err          z      P>|z|      [0.025      0.975]\n",
            "---------------------------------------------------------------------------------------------------------------\n",
            "Intercept                                      -2.2371      0.045    -50.052      0.000      -2.325      -2.150\n",
            "C(alcohol_consumption_category)[T.Heavy]       -0.0142      0.432     -0.033      0.974      -0.860       0.832\n",
            "C(alcohol_consumption_category)[T.Light]        0.0440      0.057      0.773      0.439      -0.068       0.156\n",
            "C(alcohol_consumption_category)[T.Moderate]     0.3674      0.182      2.017      0.044       0.010       0.724\n",
            "===============================================================================================================\n"
          ]
        }
      ]
    },
    {
      "cell_type": "code",
      "source": [
        "# Model 2: Adjusted for demographics\n",
        "print(\"Model 2: Demographic Adjusted\")\n",
        "m2 = smf.logit('type2_diabetes ~ C(alcohol_consumption_category) + age + C(gender) + C(ethnicity)', data=df).fit()\n",
        "print(m2.summary())"
      ],
      "metadata": {
        "colab": {
          "base_uri": "https://localhost:8080/"
        },
        "id": "Zbn-C--EM6LT",
        "outputId": "19462eff-fae4-4692-b894-9d812653cfb1"
      },
      "execution_count": 5,
      "outputs": [
        {
          "output_type": "stream",
          "name": "stdout",
          "text": [
            "Model 2: Demographic Adjusted\n",
            "Optimization terminated successfully.\n",
            "         Current function value: 0.322483\n",
            "         Iterations 6\n",
            "                           Logit Regression Results                           \n",
            "==============================================================================\n",
            "Dep. Variable:         type2_diabetes   No. Observations:                15000\n",
            "Model:                          Logit   Df Residuals:                    14990\n",
            "Method:                           MLE   Df Model:                            9\n",
            "Date:                Mon, 04 Aug 2025   Pseudo R-squ.:                0.004405\n",
            "Time:                        22:31:11   Log-Likelihood:                -4837.2\n",
            "converged:                       True   LL-Null:                       -4858.6\n",
            "Covariance Type:            nonrobust   LLR p-value:                 2.342e-06\n",
            "===============================================================================================================\n",
            "                                                  coef    std err          z      P>|z|      [0.025      0.975]\n",
            "---------------------------------------------------------------------------------------------------------------\n",
            "Intercept                                      -3.1273      0.193    -16.235      0.000      -3.505      -2.750\n",
            "C(alcohol_consumption_category)[T.Heavy]        0.0220      0.432      0.051      0.959      -0.825       0.869\n",
            "C(alcohol_consumption_category)[T.Light]        0.0428      0.057      0.751      0.452      -0.069       0.155\n",
            "C(alcohol_consumption_category)[T.Moderate]     0.3525      0.183      1.930      0.054      -0.005       0.710\n",
            "C(gender)[T.Male]                               0.0570      0.055      1.042      0.298      -0.050       0.164\n",
            "C(ethnicity)[T.Black/African American]          0.3492      0.145      2.405      0.016       0.065       0.634\n",
            "C(ethnicity)[T.Hispanic/Latino]                 0.1837      0.150      1.228      0.219      -0.109       0.477\n",
            "C(ethnicity)[T.Other]                           0.1090      0.239      0.457      0.648      -0.358       0.576\n",
            "C(ethnicity)[T.White]                           0.1428      0.137      1.045      0.296      -0.125       0.411\n",
            "age                                             0.0124      0.002      5.242      0.000       0.008       0.017\n",
            "===============================================================================================================\n"
          ]
        }
      ]
    },
    {
      "cell_type": "code",
      "source": [
        "# Model 3: Further adjustment\n",
        "print(\"Model 3: Clinical/Lifestyle\")\n",
        "m3 = smf.logit('type2_diabetes ~ C(alcohol_consumption_category) + age + C(gender) + C(ethnicity) + bmi + systolic_bp_mmhg + C(smoking_status) + physical_activity_met_hours_per_week', data=df).fit()\n",
        "print(m3.summary())"
      ],
      "metadata": {
        "colab": {
          "base_uri": "https://localhost:8080/"
        },
        "id": "GIq_WsaENs1B",
        "outputId": "30fafd32-deff-41ab-8766-16d16bf131f9"
      },
      "execution_count": 6,
      "outputs": [
        {
          "output_type": "stream",
          "name": "stdout",
          "text": [
            "Model 3: Clinical/Lifestyle\n",
            "Optimization terminated successfully.\n",
            "         Current function value: 0.321963\n",
            "         Iterations 6\n",
            "                           Logit Regression Results                           \n",
            "==============================================================================\n",
            "Dep. Variable:         type2_diabetes   No. Observations:                15000\n",
            "Model:                          Logit   Df Residuals:                    14985\n",
            "Method:                           MLE   Df Model:                           14\n",
            "Date:                Mon, 04 Aug 2025   Pseudo R-squ.:                0.006011\n",
            "Time:                        22:32:41   Log-Likelihood:                -4829.4\n",
            "converged:                       True   LL-Null:                       -4858.6\n",
            "Covariance Type:            nonrobust   LLR p-value:                 2.229e-07\n",
            "===============================================================================================================\n",
            "                                                  coef    std err          z      P>|z|      [0.025      0.975]\n",
            "---------------------------------------------------------------------------------------------------------------\n",
            "Intercept                                      -3.4900      0.325    -10.743      0.000      -4.127      -2.853\n",
            "C(alcohol_consumption_category)[T.Heavy]        0.0266      0.433      0.062      0.951      -0.821       0.875\n",
            "C(alcohol_consumption_category)[T.Light]        0.0441      0.057      0.773      0.440      -0.068       0.156\n",
            "C(alcohol_consumption_category)[T.Moderate]     0.3458      0.183      1.892      0.058      -0.012       0.704\n",
            "C(gender)[T.Male]                               0.0574      0.055      1.048      0.295      -0.050       0.165\n",
            "C(ethnicity)[T.Black/African American]          0.3498      0.145      2.408      0.016       0.065       0.635\n",
            "C(ethnicity)[T.Hispanic/Latino]                 0.1826      0.150      1.221      0.222      -0.111       0.476\n",
            "C(ethnicity)[T.Other]                           0.1047      0.239      0.439      0.661      -0.363       0.572\n",
            "C(ethnicity)[T.White]                           0.1405      0.137      1.028      0.304      -0.127       0.408\n",
            "C(smoking_status)[T.Former]                    -0.0772      0.081     -0.954      0.340      -0.236       0.081\n",
            "C(smoking_status)[T.Never]                     -0.0817      0.070     -1.167      0.243      -0.219       0.056\n",
            "age                                             0.0123      0.002      5.228      0.000       0.008       0.017\n",
            "bmi                                             0.0184      0.005      3.433      0.001       0.008       0.029\n",
            "systolic_bp_mmhg                               -0.0004      0.002     -0.264      0.792      -0.003       0.003\n",
            "physical_activity_met_hours_per_week           -0.0029      0.002     -1.516      0.129      -0.007       0.001\n",
            "===============================================================================================================\n"
          ]
        }
      ]
    }
  ]
}